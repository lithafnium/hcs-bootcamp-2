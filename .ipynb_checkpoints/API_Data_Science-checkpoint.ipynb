{
 "cells": [
  {
   "cell_type": "markdown",
   "metadata": {},
   "source": [
    "# Using APIs and Intro to Machine Learning\n",
    "#### Connor Leggett"
   ]
  },
  {
   "cell_type": "markdown",
   "metadata": {},
   "source": [
    "## Using an API"
   ]
  },
  {
   "cell_type": "code",
   "execution_count": 7,
   "metadata": {},
   "outputs": [],
   "source": [
    "# Importing necessary libraries\n",
    "import urllib\n",
    "import requests\n",
    "import time"
   ]
  },
  {
   "cell_type": "markdown",
   "metadata": {},
   "source": [
    "### Generating random jeopardy questions\n",
    "### (We didn't do this in the bootcamp, but it's another example of API use)"
   ]
  },
  {
   "cell_type": "code",
   "execution_count": 8,
   "metadata": {},
   "outputs": [
    {
     "name": "stdout",
     "output_type": "stream",
     "text": [
      "{u'category': {u'updated_at': u'2014-02-11T22:47:23.329Z', u'created_at': u'2014-02-11T22:47:23.329Z', u'id': 36, u'clues_count': 85, u'title': u'colors'}, u'airdate': u'2000-06-01T12:00:00.000Z', u'created_at': u'2014-02-11T23:06:59.806Z', u'question': u'Olive,hunter,kelly', u'updated_at': u'2014-02-11T23:06:59.806Z', u'value': 400, u'answer': u'Green', u'game_id': None, u'category_id': 36, u'invalid_count': None, u'id': 35547}\n",
      "Category: colors\n",
      "Q: Olive,hunter,kelly\n",
      "asdf\n",
      "A: Green\n"
     ]
    }
   ],
   "source": [
    "# A function to Display information from a question Dictionary:\n",
    "def display_question(question):\n",
    "    print(\"Category: \" + question[\"category\"][\"title\"])\n",
    "    print(\"Q: \" + question[\"question\"])\n",
    "    raw_input()\n",
    "    print(\"A: \" + question[\"answer\"])\n",
    "\n",
    "\n",
    "# The URL of the API I will be making requests to:\n",
    "url = \"http://jservice.io/api/random\"\n",
    "\n",
    "# Making the URL Request\n",
    "random_question = requests.get(url).json()[0]\n",
    "print(random_question)\n",
    "\n",
    "# Displaying Question\n",
    "display_question(random_question)\n",
    "\n"
   ]
  },
  {
   "cell_type": "markdown",
   "metadata": {},
   "source": [
    "### Finding Song Lyrics"
   ]
  },
  {
   "cell_type": "code",
   "execution_count": 9,
   "metadata": {},
   "outputs": [
    {
     "name": "stdout",
     "output_type": "stream",
     "text": [
      "Title: asdfasdf\n",
      "Artist: asdfasdf\n",
      "Song not found\n"
     ]
    }
   ],
   "source": [
    "# Base URL:\n",
    "base_url = \"https://api.lyrics.ovh/v1/\"\n",
    "\n",
    "# User's input\n",
    "title = raw_input(\"Title: \")\n",
    "artist = raw_input(\"Artist: \")\n",
    "\n",
    "# Create a new url based on users requests:\n",
    "final_url = base_url + artist + '/' + title\n",
    "\n",
    "data = requests.get(final_url).json()\n",
    "\n",
    "# Making sure the API returned a value\n",
    "try:\n",
    "    print(\"\\n\\n\" + data['lyrics'])\n",
    "except KeyError:\n",
    "    print(\"Song not found\")\n",
    "\n",
    "# For requests with optional arguments, look up: urllib.parse.urlencode()"
   ]
  },
  {
   "cell_type": "markdown",
   "metadata": {},
   "source": [
    "## Making an API"
   ]
  },
  {
   "cell_type": "code",
   "execution_count": 1,
   "metadata": {},
   "outputs": [],
   "source": [
    "# Necessary imports\n",
    "import random\n",
    "from flask import Flask, request\n",
    "import random"
   ]
  },
  {
   "cell_type": "markdown",
   "metadata": {},
   "source": [
    "### Making a random number API"
   ]
  },
  {
   "cell_type": "code",
   "execution_count": 11,
   "metadata": {},
   "outputs": [
    {
     "name": "stdout",
     "output_type": "stream",
     "text": [
      " * Serving Flask app \"__main__\" (lazy loading)\n",
      " * Environment: production\n",
      "   WARNING: This is a development server. Do not use it in a production deployment.\n",
      "   Use a production WSGI server instead.\n",
      " * Debug mode: off\n"
     ]
    },
    {
     "name": "stderr",
     "output_type": "stream",
     "text": [
      " * Running on http://127.0.0.1:5000/ (Press CTRL+C to quit)\n",
      "127.0.0.1 - - [30/Oct/2019 10:36:45] \"GET / HTTP/1.1\" 200 -\n"
     ]
    }
   ],
   "source": [
    "# Initialize flask app\n",
    "app = Flask(__name__)\n",
    "\n",
    "# On the main page, return a random number (as a string)\n",
    "@app.route(\"/\", methods=['GET'])\n",
    "def first_api():\n",
    "    return str(random.randrange(1, 10))\n",
    "\n",
    "#Run the app\n",
    "app.run()"
   ]
  },
  {
   "cell_type": "markdown",
   "metadata": {},
   "source": [
    "### Making an addition API:"
   ]
  },
  {
   "cell_type": "code",
   "execution_count": null,
   "metadata": {},
   "outputs": [
    {
     "name": "stdout",
     "output_type": "stream",
     "text": [
      " * Serving Flask app \"__main__\" (lazy loading)\n",
      " * Environment: production\n",
      "   WARNING: This is a development server. Do not use it in a production deployment.\n",
      "   Use a production WSGI server instead.\n",
      " * Debug mode: off\n"
     ]
    },
    {
     "name": "stderr",
     "output_type": "stream",
     "text": [
      " * Running on http://127.0.0.1:5000/ (Press CTRL+C to quit)\n",
      "127.0.0.1 - - [30/Oct/2019 10:37:10] \"GET / HTTP/1.1\" 200 -\n",
      "[2019-10-30 10:37:13,796] ERROR in app: Exception on /add [GET]\n",
      "Traceback (most recent call last):\n",
      "  File \"c:\\python27\\lib\\site-packages\\flask\\app.py\", line 2446, in wsgi_app\n",
      "    response = self.full_dispatch_request()\n",
      "  File \"c:\\python27\\lib\\site-packages\\flask\\app.py\", line 1951, in full_dispatch_request\n",
      "    rv = self.handle_user_exception(e)\n",
      "  File \"c:\\python27\\lib\\site-packages\\flask\\app.py\", line 1820, in handle_user_exception\n",
      "    reraise(exc_type, exc_value, tb)\n",
      "  File \"c:\\python27\\lib\\site-packages\\flask\\app.py\", line 1949, in full_dispatch_request\n",
      "    rv = self.dispatch_request()\n",
      "  File \"c:\\python27\\lib\\site-packages\\flask\\app.py\", line 1935, in dispatch_request\n",
      "    return self.view_functions[rule.endpoint](**req.view_args)\n",
      "  File \"<ipython-input-12-0aeab6d5ff71>\", line 14, in second_api\n",
      "    return str(int(first) + int(second))\n",
      "TypeError: int() argument must be a string or a number, not 'NoneType'\n",
      "127.0.0.1 - - [30/Oct/2019 10:37:13] \"GET /add HTTP/1.1\" 500 -\n"
     ]
    }
   ],
   "source": [
    "# Initialize flask app\n",
    "app = Flask(__name__)\n",
    "\n",
    "# On the main page, return a random number (as a string)\n",
    "@app.route(\"/\", methods=['GET'])\n",
    "def first_api():\n",
    "    return str(random.randrange(1, 10))\n",
    "\n",
    "# On the add page, take two arguments, add them, and return the string\n",
    "@app.route(\"/add\", methods=['GET'])\n",
    "def second_api():\n",
    "    first = request.args.get(\"first\")\n",
    "    second = request.args.get(\"second\")\n",
    "    return str(int(first) + int(second))\n",
    "\n",
    "# Run the application\n",
    "app.run()"
   ]
  },
  {
   "cell_type": "markdown",
   "metadata": {},
   "source": [
    "## Data Science"
   ]
  },
  {
   "cell_type": "code",
   "execution_count": 2,
   "metadata": {},
   "outputs": [],
   "source": [
    "# Necessary imports:\n",
    "import json\n",
    "import pandas as pd\n",
    "from pandas import ExcelWriter\n",
    "from pandas import ExcelFile\n",
    "from sklearn.cluster import KMeans\n",
    "from sklearn.neighbors import KNeighborsClassifier\n",
    "from sklearn.metrics import confusion_matrix, accuracy_score\n",
    "from sklearn.preprocessing import LabelEncoder\n",
    "from sklearn.model_selection import cross_val_score\n",
    "from sklearn.model_selection import train_test_split\n",
    "import matplotlib.pyplot as plt\n",
    "from pandas.plotting import parallel_coordinates\n",
    "import numpy as np\n",
    "import random\n",
    "import os\n",
    "\n",
    "# Setting up current directory:\n",
    "CURRENT_DIRECTORY = os.getcwd()"
   ]
  },
  {
   "cell_type": "markdown",
   "metadata": {},
   "source": [
    "### K Means Clustering \n",
    "### (We didn't do this in the bootcamp, but it's a method of 'unsupervised learning' which you can check out if you're interested)"
   ]
  },
  {
   "cell_type": "code",
   "execution_count": 3,
   "metadata": {
    "scrolled": true
   },
   "outputs": [
    {
     "data": {
      "text/plain": [
       "<matplotlib.collections.PathCollection at 0x5f49358>"
      ]
     },
     "execution_count": 3,
     "metadata": {},
     "output_type": "execute_result"
    },
    {
     "data": {
      "image/png": "[encoded data removed]",
      "text/plain": [
       "<Figure size 360x360 with 1 Axes>"
      ]
     },
     "metadata": {
      "needs_background": "light"
     },
     "output_type": "display_data"
    }
   ],
   "source": [
    "# Creating a pandas dataframe\n",
    "df = pd.DataFrame({\n",
    "    'x': [12, 20, 28, 18, 29, 33, 24, 45, 45, 52, 51, 52, 55, 53, 55, 61, 64, 69, 72],\n",
    "    'y': [39, 36, 30, 52, 54, 46, 55, 59, 63, 70, 66, 63, 58, 23, 14, 8, 19, 7, 24]\n",
    "})\n",
    "\n",
    "# Alternatively, use random datasets\n",
    "\"\"\"\n",
    "rands1 = [random.randint(0,100) for i in range(100)]\n",
    "rands2 = [random.randint(0,100) for i in range(100)]\n",
    "df = pd.DataFrame({\n",
    "    'x': rands1,\n",
    "    'y': rands2\n",
    "})\n",
    "\"\"\"\n",
    "\n",
    "# Using the sklearn KMeans algorithm to group data\n",
    "kmeans = KMeans(n_clusters=3)\n",
    "kmeans.fit(df)\n",
    "\n",
    "# Accessing the central points of each group \n",
    "centroids = kmeans.cluster_centers_\n",
    "\n",
    "# Accessing the labels of each point\n",
    "labels = kmeans.labels_\n",
    "\n",
    "\n",
    "# Plotting the results below\n",
    "fig = plt.figure(figsize=(5, 5))\n",
    "ax = fig.add_subplot(1,1,1)\n",
    "ax.scatter(df['x'], df['y'], c=labels.astype(np.float), edgecolor='k', s=40)\n",
    "\n",
    "    \n",
    "\n"
   ]
  },
  {
   "cell_type": "markdown",
   "metadata": {},
   "source": [
    "### K Nearest Neighbors"
   ]
  },
  {
   "cell_type": "code",
   "execution_count": 4,
   "metadata": {
    "scrolled": true
   },
   "outputs": [],
   "source": [
    "# Importing data from a csv file\n",
    "dataset2 = pd.read_csv(CURRENT_DIRECTORY + '/atp_matches_2017.csv'); \n",
    "#rows, cols = dataset2.shape\n",
    "#df = pd.read_excel(CURRENT_DIRECTORY + '/atp_matches_2017.csv', sheetname='atp_matches_2017')\n",
    "\n",
    "dataset2.groupby('winner_rank').size()\n",
    "X1 = dataset2['winner_rank'].values; \n",
    "#print(X1)\n",
    "#print(dataset2['winner_rank'])\n",
    "#print(dataset2['tourney_date'].values)\n",
    "Y1 = dataset2['loser_rank'].values; # for some reason this is the loser array \n",
    "#print(Y1)\n"
   ]
  },
  {
   "cell_type": "code",
   "execution_count": 5,
   "metadata": {
    "scrolled": false
   },
   "outputs": [
    {
     "data": {
      "text/plain": [
       "Text(0,0.5,'Loser Rank')"
      ]
     },
     "execution_count": 5,
     "metadata": {},
     "output_type": "execute_result"
    },
    {
     "data": {
      "image/png": "[encoded data removed]",
      "text/plain": [
       "<Figure size 1080x1080 with 1 Axes>"
      ]
     },
     "metadata": {
      "needs_background": "light"
     },
     "output_type": "display_data"
    }
   ],
   "source": [
    "\n",
    "\n",
    "\n",
    "fig = plt.figure(figsize=(15, 15))\n",
    "ax = fig.add_subplot(1,1,1)\n",
    "\n",
    "ax.scatter(X1, Y1, edgecolor='k', s=20)\n",
    "plt.title('Plot of winners/losers in tennis based on rankings', fontsize = 20, fontweight = 'bold')\n",
    "plt.xlabel('Winner Rank', fontsize = 20)\n",
    "plt.ylabel('Loser Rank', fontsize = 20)"
   ]
  },
  {
   "cell_type": "markdown",
   "metadata": {},
   "source": [
    "### Training the model:"
   ]
  },
  {
   "cell_type": "code",
   "execution_count": 6,
   "metadata": {
    "scrolled": true
   },
   "outputs": [
    {
     "name": "stderr",
     "output_type": "stream",
     "text": [
      "c:\\python27\\lib\\site-packages\\ipykernel_launcher.py:24: DataConversionWarning: A column-vector y was passed when a 1d array was expected. Please change the shape of y to (n_samples, ), for example using ravel().\n"
     ]
    },
    {
     "data": {
      "text/plain": [
       "KNeighborsClassifier(algorithm='auto', leaf_size=30, metric='minkowski',\n",
       "           metric_params=None, n_jobs=None, n_neighbors=10, p=2,\n",
       "           weights='uniform')"
      ]
     },
     "execution_count": 6,
     "metadata": {},
     "output_type": "execute_result"
    }
   ],
   "source": [
    "# Splitting into training and test datasets:\n",
    "\n",
    "X_train, X_test, Y_train, Y_test = train_test_split(X1, Y1, test_size = 0.5, random_state = 0)\n",
    "\n",
    "# Creating the learning model\n",
    "knn_classifier = KNeighborsClassifier(n_neighbors=10)\n",
    "#print(X_train)\n",
    "#print(Y_train)\n",
    "\n",
    "# changes 1d array to 2d array \n",
    "X_test = X_test.reshape(-1, 1)\n",
    "X_test[np.isnan(X_test)] = 0\n",
    "Y_test = Y_test.reshape(-1, 1)\n",
    "Y_test[np.isnan(Y_test)] = 0\n",
    "X_train = X_train.reshape(-1, 1)\n",
    "X_train[np.isnan(X_train)] = 0\n",
    "Y_train = Y_train.reshape(-1, 1)\n",
    "Y_train[np.isnan(Y_train)] = 0\n",
    "\n",
    "#X_train.reshape(-1, 1)\n",
    "#Y_train.reshape(-1, 1)\n",
    "\n",
    "# Fitting the model with the training data\n",
    "knn_classifier.fit(X_train, Y_train)"
   ]
  },
  {
   "cell_type": "markdown",
   "metadata": {},
   "source": [
    "### Test the model"
   ]
  },
  {
   "cell_type": "code",
   "execution_count": 7,
   "metadata": {},
   "outputs": [
    {
     "name": "stdout",
     "output_type": "stream",
     "text": [
      "[ 63.  33.   5.  33.   0.   0.   0.  26.   1.  34.  19.  96.  19.   5.\n",
      "  63.  15.  63.  34.   8.  21.   0.   0.   0.   8.  32.   1.  12.   8.\n",
      "  96.   5.   1.   0.   0.  96.  63.   5.   0.   1.   5.  26.  70.  63.\n",
      "  21.   5.  19.  21.   5.   0.  26.  63.   0.   1.  21.   8.   9.  21.\n",
      "   1.  63.   5.   0.   0.  32.   9.   0.   5.   0.  96.  12.   1.  26.\n",
      "  96.   8.  44.  33.   9.  32.  15.   8.  21.  63.  12.   0.  19.   0.\n",
      "  96.   0.   5.   8.  44.   1.  46.  34.  15.  63.   0.  15.  32.   5.\n",
      "   0.  26.   0.   0.  32.  46.   1.   0.  37.  70.  21.  21.   0.   8.\n",
      "   0.  26.  63.  70.  11.  15.  12.  37.   9.   0.  26. 885.   0.   5.\n",
      "  12.  19.   5.  19.  27.   0. 885.  21.  12.  33.  21.  19.   0.   0.\n",
      "  15.   5.   0.  54.   0.   0.   0.   0.   0.  26.  11.  26.  26.   5.\n",
      "  33.  33.   8.  46.  11.  15.  33.   5.  96.  96.   0.  31.  26.   8.\n",
      "   0.  37.   0.   5.  11. 885.  21.   0.   0.  11.   9.  19.  19.  11.\n",
      "  26. 885.  19.   8.  21.   0.  46.   1.  27.   0.   0.   8.]\n",
      "Accuracy of model: 4.64 %.\n"
     ]
    },
    {
     "data": {
      "text/plain": [
       "array([[8, 0, 0, ..., 0, 0, 0],\n",
       "       [0, 0, 0, ..., 0, 0, 0],\n",
       "       [0, 0, 0, ..., 0, 0, 0],\n",
       "       ...,\n",
       "       [1, 0, 0, ..., 0, 0, 0],\n",
       "       [1, 0, 0, ..., 0, 0, 0],\n",
       "       [1, 0, 0, ..., 0, 0, 0]], dtype=int64)"
      ]
     },
     "execution_count": 7,
     "metadata": {},
     "output_type": "execute_result"
    }
   ],
   "source": [
    "# Making predictions with the test data (This line is also where we would potentially classify new data)\n",
    "Y_pred = knn_classifier.predict(X_test)\n",
    "print(Y_pred)\n",
    "\n",
    "# Finding Accuracy:\n",
    "accuracy = accuracy_score(Y_test, Y_pred)*100\n",
    "print('Accuracy of model: ' + str(round(accuracy, 2)) + ' %.')\n",
    "cm = confusion_matrix(Y_test, Y_pred)\n",
    "cm"
   ]
  },
  {
   "cell_type": "markdown",
   "metadata": {},
   "source": [
    "### Testing out different k values"
   ]
  },
  {
   "cell_type": "code",
   "execution_count": 8,
   "metadata": {
    "scrolled": true
   },
   "outputs": [
    {
     "name": "stderr",
     "output_type": "stream",
     "text": [
      "c:\\python27\\lib\\site-packages\\sklearn\\model_selection\\_split.py:651: Warning: The least populated class in y has only 1 members, which is too few. The minimum number of members in any class cannot be less than n_splits=10.\n",
      "  % (min_groups, self.n_splits)), Warning)\n",
      "c:\\python27\\lib\\site-packages\\sklearn\\model_selection\\_validation.py:530: DataConversionWarning: A column-vector y was passed when a 1d array was expected. Please change the shape of y to (n_samples, ), for example using ravel().\n",
      "  estimator.fit(X_train, y_train, **fit_params)\n"
     ]
    },
    {
     "data": {
      "text/plain": [
       "<Figure size 432x288 with 0 Axes>"
      ]
     },
     "metadata": {},
     "output_type": "display_data"
    },
    {
     "data": {
      "image/png": "[encoded data removed]",
      "text/plain": [
       "<Figure size 1080x720 with 1 Axes>"
      ]
     },
     "metadata": {
      "needs_background": "light"
     },
     "output_type": "display_data"
    }
   ],
   "source": [
    "# creating list of cv scores\n",
    "cv_scores = []\n",
    "\n",
    "# perform 10-fold cross validation\n",
    "for k in range(1, 50, 2):\n",
    "    knn = KNeighborsClassifier(n_neighbors=k)\n",
    "    scores = cross_val_score(knn, X_train, Y_train, cv=10, scoring='accuracy')\n",
    "    cv_scores.append(scores.mean())\n",
    "\n",
    "\n",
    "\n",
    "# Displaying results visually\n",
    "plt.figure()\n",
    "plt.figure(figsize=(15,10))\n",
    "plt.title('The optimal number of neighbors', fontsize=20, fontweight='bold')\n",
    "plt.xlabel('Number of Neighbors K', fontsize=15)\n",
    "plt.ylabel('Accuracy', fontsize=15)\n",
    "plt.plot(cv_scores)\n",
    "\n",
    "plt.show()"
   ]
  },
  {
   "cell_type": "markdown",
   "metadata": {},
   "source": [
    "## Tennis Match Predictor API"
   ]
  },
  {
   "cell_type": "code",
   "execution_count": null,
   "metadata": {},
   "outputs": [
    {
     "name": "stdout",
     "output_type": "stream",
     "text": [
      " * Serving Flask app \"__main__\" (lazy loading)\n",
      " * Environment: production\n",
      "   WARNING: This is a development server. Do not use it in a production deployment.\n",
      "   Use a production WSGI server instead.\n",
      " * Debug mode: off\n"
     ]
    },
    {
     "name": "stderr",
     "output_type": "stream",
     "text": [
      " * Running on http://127.0.0.1:5000/ (Press CTRL+C to quit)\n",
      "[2019-10-30 11:53:15,697] ERROR in app: Exception on / [GET]\n",
      "Traceback (most recent call last):\n",
      "  File \"c:\\python27\\lib\\site-packages\\flask\\app.py\", line 2446, in wsgi_app\n",
      "    response = self.full_dispatch_request()\n",
      "  File \"c:\\python27\\lib\\site-packages\\flask\\app.py\", line 1951, in full_dispatch_request\n",
      "    rv = self.handle_user_exception(e)\n",
      "  File \"c:\\python27\\lib\\site-packages\\flask\\app.py\", line 1820, in handle_user_exception\n",
      "    reraise(exc_type, exc_value, tb)\n",
      "  File \"c:\\python27\\lib\\site-packages\\flask\\app.py\", line 1949, in full_dispatch_request\n",
      "    rv = self.dispatch_request()\n",
      "  File \"c:\\python27\\lib\\site-packages\\flask\\app.py\", line 1935, in dispatch_request\n",
      "    return self.view_functions[rule.endpoint](**req.view_args)\n",
      "  File \"<ipython-input-17-5da0930a1414>\", line 14, in classify\n",
      "    dfb = int(dataset2[dataset2['player-name']==values[0][0]].index[0])\n",
      "  File \"c:\\python27\\lib\\site-packages\\pandas\\core\\frame.py\", line 2927, in __getitem__\n",
      "    indexer = self.columns.get_loc(key)\n",
      "  File \"c:\\python27\\lib\\site-packages\\pandas\\core\\indexes\\base.py\", line 2659, in get_loc\n",
      "    return self._engine.get_loc(self._maybe_cast_indexer(key))\n",
      "  File \"pandas\\_libs\\index.pyx\", line 108, in pandas._libs.index.IndexEngine.get_loc\n",
      "  File \"pandas\\_libs\\index.pyx\", line 132, in pandas._libs.index.IndexEngine.get_loc\n",
      "  File \"pandas\\_libs\\hashtable_class_helper.pxi\", line 1601, in pandas._libs.hashtable.PyObjectHashTable.get_item\n",
      "  File \"pandas\\_libs\\hashtable_class_helper.pxi\", line 1608, in pandas._libs.hashtable.PyObjectHashTable.get_item\n",
      "KeyError: 'player-name'\n",
      "127.0.0.1 - - [30/Oct/2019 11:53:15] \"GET /?p1Name=%22Roger%20Federer%22&p2Name=%22Novak%20Djokovic%22 HTTP/1.1\" 500 -\n"
     ]
    }
   ],
   "source": [
    "# Set up Flask App\n",
    "app = Flask(__name__)\n",
    "\n",
    "@app.route(\"/\", methods = ['GET'])\n",
    "def classify():\n",
    "    # array mapping numbers to flower names\n",
    "    classes = [ \"Iris Setosa\", \"Iris Versicolor\", \"Iris Virginica\"]\n",
    "    \n",
    "    # get values for each component, return error message if not a float\n",
    "    try:\n",
    "        values = [[(request.args.get(component)) for component in [\"p1Name\", \"p2Name\"]]]\n",
    "        #dfb = int(dataset2['player-name'==values[0][0]].index[0])\n",
    "        #print(dfb)\n",
    "        #dfb = int(dataset2[dataset2['player-name']==values[0][0]].index[0])\n",
    "\n",
    "        print(values[0][0])\n",
    "    except TypeError:\n",
    "        return \"An error occured\\nUsage: 127.0.0.1:5000?sHeight=NUM&sWidth=NUM&pHeight=NUM&sHeight=NUM\"\n",
    "    \n",
    "    # Otherwise, return the prediction.\n",
    "   #prediction = knn_classifier.predict(values)[0]\n",
    "    #return classes[prediction]\n",
    "    return \"hi\"\n",
    "# Run the app.\n",
    "app.run()\n",
    "\n",
    "# try 127.0.0.1:5000?sHeight=5.2&sWidth=4.6&pHeight=4.2&sHeight=7.8\n",
    "# try 127.0.0.1:5000?p1Name=\"Roger Federer\"&p2Name=\"Novak Djokovic\"\n",
    "    "
   ]
  },
  {
   "cell_type": "markdown",
   "metadata": {},
   "source": [
    "## Citations\n",
    "\n",
    "@inproceedings{sklearn_api,\n",
    "  author    = {Lars Buitinck and Gilles Louppe and Mathieu Blondel and\n",
    "               Fabian Pedregosa and Andreas Mueller and Olivier Grisel and\n",
    "               Vlad Niculae and Peter Prettenhofer and Alexandre Gramfort\n",
    "               and Jaques Grobler and Robert Layton and Jake VanderPlas and\n",
    "               Arnaud Joly and Brian Holt and Ga{\\\"{e}}l Varoquaux},\n",
    "  title     = {{API} design for machine learning software: experiences from the scikit-learn\n",
    "               project},\n",
    "  booktitle = {ECML PKDD Workshop: Languages for Data Mining and Machine Learning},\n",
    "  year      = {2013},\n",
    "  pages = {108--122},\n",
    "}\n",
    "\n",
    "#### Inspiration for this project came from a similar instructive project created by Johnny Berman and Jeffery He that can be found here: github.com/JohnnyBerman/HCS-Data-Science-Bootcamp\n",
    "\n",
    "#### Code for KNN iris project adapted from SkalskiP. Orginial found here: https://www.kaggle.com/skalskip/iris-data-visualization-and-knn-classification\n",
    "\n",
    "#### Iris dataset: https://www.kaggle.com/uciml/iris"
   ]
  },
  {
   "cell_type": "code",
   "execution_count": null,
   "metadata": {},
   "outputs": [],
   "source": []
  },
  {
   "cell_type": "code",
   "execution_count": null,
   "metadata": {},
   "outputs": [],
   "source": []
  },
  {
   "cell_type": "code",
   "execution_count": null,
   "metadata": {},
   "outputs": [],
   "source": []
  }
 ],
 "metadata": {
  "kernelspec": {
   "display_name": "Python 2",
   "language": "python",
   "name": "python2"
  },
  "language_info": {
   "codemirror_mode": {
    "name": "ipython",
    "version": 2
   },
   "file_extension": ".py",
   "mimetype": "text/x-python",
   "name": "python",
   "nbconvert_exporter": "python",
   "pygments_lexer": "ipython2",
   "version": "2.7.16"
  }
 },
 "nbformat": 4,
 "nbformat_minor": 2
}
