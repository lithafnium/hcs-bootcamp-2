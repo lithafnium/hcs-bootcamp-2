{
 "cells": [
  {
   "cell_type": "markdown",
   "metadata": {},
   "source": [
    "# Using APIs and Intro to Machine Learning\n",
    "#### Connor Leggett"
   ]
  },
  {
   "cell_type": "markdown",
   "metadata": {},
   "source": [
    "## Using an API"
   ]
  },
  {
   "cell_type": "code",
   "execution_count": 6,
   "metadata": {
    "scrolled": true
   },
   "outputs": [],
   "source": [
    "# Importing necessary libraries\n",
    "import urllib\n",
    "import requests\n",
    "import time"
   ]
  },
  {
   "cell_type": "markdown",
   "metadata": {},
   "source": [
    "### Finding Song Lyrics"
   ]
  },
  {
   "cell_type": "code",
   "execution_count": 10,
   "metadata": {},
   "outputs": [
    {
     "name": "stdout",
     "output_type": "stream",
     "text": [
      "Title: sicko_mode\n",
      "Artist: travis_scott\n",
      "\n",
      "\n",
      "Astro, yeah\n",
      "\n",
      "Sun is down, freezin' cold\n",
      "That's how we already know winter's here\n",
      "My dog would prolly do it for a Louis belt\n",
      "That's just all he know, he don't know nothin' else\n",
      "I tried to show 'em, yeah\n",
      "I tried to show 'em, yeah, yeah\n",
      "Yeah, yeah, yeah\n",
      "\n",
      "Gone on you with the pick and roll\n",
      "Young LaFlame, he in sicko mode\n",
      "\n",
      "Woo, made this here with all the ice on in the booth\n",
      "At the gate outside, when they pull up, they get me loose\n",
      "Yeah, Jump Out boys, that's Nike boys, hoppin' out coupes\n",
      "This shit way too big, when we pull up give me the loot (gimme the loot)\n",
      "Was off the Remy, had to Papoose\n",
      "Had to hit my old town to duck the news\n",
      "Two-four hour on lockdown, we make no moves\n",
      "Now it's 4:00 AM and I'm back up poppin' with the crew\n",
      "I just landed in, Chase B mixes pop like Jamba juice\n",
      "Different colored chains, see my jeweler really sellin' fruits\n",
      "And they chokin', man, know the crackers wish it was a noose\n",
      "\n",
      "(Some-some-some, someone said)\n",
      "To win the retreat, we all in too deep\n",
      "Playin' for keeps, don't play us for weak (someone said)\n",
      "To win the retreat, we all in too deep\n",
      "P-p-playin' for keeps, don't play us for weak\n",
      "\n",
      "This shit way too formal, y'all know I don't follow suit\n",
      "Stacy Dash, most these of girls ain't got a clue\n",
      "All of these hoes I made off records I produced\n",
      "I might take all my exes and put 'em all in a group\n",
      "\n",
      "Hit my eses, I need the booch\n",
      "'Bout to turn this function to Bonnaroo\n",
      "Told her \"hop in, you comin' too\"\n",
      "In the 305, bitches treat me like I'm Uncle Luke\n",
      "(Don't stop, pop that pussy)\n",
      "\n",
      "Had to slop the top off, it's just a roof\n",
      "She said \"where we goin'?\" I said \"the moon\"\n",
      "We ain't even make it to the room\n",
      "She thought it was the ocean, it's just the pool\n",
      "Now I got her open, it's just the Goose\n",
      "Who put this shit together? I'm the glue\n",
      "(Someone said)\n",
      "Shorty FaceTimed me out the blue\n",
      "\n",
      "(Someone said)\n",
      "To win the retreat, we all in too deep\n",
      "Playin' for keeps, don't play us for weak (Someone said)\n",
      "\n",
      "Yeah\n",
      "Astro\n",
      "Yeah, yeah\n",
      "Tay Keith, fuck these niggas up\n",
      "\n",
      "She's in love with who I am\n",
      "Back in high school, I used to bust it to the dance (yeah)\n",
      "Now I hit that epioo with duffles in my hands\n",
      "I did half a Xan, thirteen hours till I land\n",
      "Had me out like a light, ay, yeah\n",
      "Like a light, ay, yeah\n",
      "Like a light, ay\n",
      "\n",
      "Slept through the flight, ay\n",
      "Knocked for the night, ay, 767, man\n",
      "This shit got double bedroom, man\n",
      "I still got scores to settle, man\n",
      "\n",
      "I crept down the block (down the block)\n",
      "Made a right (yeah, right)\n",
      "Cut the lights (yeah, what?)\n",
      "Paid the price (yeah)\n",
      "Niggas think it's sweet (nah, nah)\n",
      "It's on sight (yeah, what?)\n",
      "Nothin' nice (yeah), baguettes in my ice (aww, man)\n",
      "\n",
      "Jesus Christ (yeah), checks over stripes (yeah)\n",
      "That's what I like (yeah), that's what we like (yeah)\n",
      "Lost my respect, you not a threat\n",
      "When I shoot my shot, that shit wetty like I'm Sheck (bitch)\n",
      "\n",
      "See the shots that I took (ay), wet like I'm booked (ay)\n",
      "Wet like I'm Lindsay, I be spending Folie's\n",
      "Circle blocks till I'm dizzy (yeah, what?)\n",
      "Like where is he? (Yeah, what?)\n",
      "No one seen him (yeah, yeah)\n",
      "I'm tryna clean 'em (yeah)\n",
      "\n",
      "She's in love with who I am\n",
      "Back in high school, I used to bust it to the dance\n",
      "Now I hit the fbo with duffles in my hand (woo)\n",
      "I did half a Xan, thirteen hours till I land\n",
      "Had me out like a light (like a light)\n",
      "Like a light (yeah, like a light)\n",
      "Like a light (like a light)\n",
      "Like a light\n",
      "\n",
      "Yeah, pass the dawgs in celly\n",
      "Sendin' texts, ain't sendin' kites, yeah\n",
      "He said \"keep that on lock\"\n",
      "I said \"you know this shit, it's life\", yeah\n",
      "\n",
      "It's absolute (yeah), I'm back rebute (it's lit)\n",
      "LaFerrari to Jamba Juice, yeah (skrrt, skrrt)\n",
      "We back on the road, they jumpin' off, no parachute, yeah\n",
      "Shorty in the back, she said she workin' on her glutes, yeah (oh my God)\n",
      "\n",
      "Ain't by the book (yeah), this how it look (yeah)\n",
      "'Bout a check (yeah), just check the foots (yeah)\n",
      "Passes to my daughter, I'ma show her what it took (yeah)\n",
      "Baby mama cover Forbes, got these other bitches shook, yeah\n"
     ]
    }
   ],
   "source": [
    "# Base URL:\n",
    "base_url = \"https://api.lyrics.ovh/v1/\"\n",
    "\n",
    "# User's input\n",
    "title = raw_input(\"Title: \")\n",
    "artist = raw_input(\"Artist: \")\n",
    "\n",
    "# Create a new url based on users requests:\n",
    "final_url = base_url + artist + '/' + title\n",
    "\n",
    "data = requests.get(final_url).json()\n",
    "\n",
    "# Making sure the API returned a value\n",
    "try:\n",
    "    print(\"\\n\\n\" + data['lyrics'])\n",
    "except KeyError:\n",
    "    print(\"Song not found\")\n",
    "\n",
    "# For requests with optional arguments, look up: urllib.parse.urlencode()"
   ]
  },
  {
   "cell_type": "markdown",
   "metadata": {},
   "source": [
    "## Making an API"
   ]
  },
  {
   "cell_type": "code",
   "execution_count": 11,
   "metadata": {},
   "outputs": [
    {
     "ename": "ImportError",
     "evalue": "No module named flask",
     "output_type": "error",
     "traceback": [
      "\u001b[1;31m---------------------------------------------------------------------------\u001b[0m",
      "\u001b[1;31mImportError\u001b[0m                               Traceback (most recent call last)",
      "\u001b[1;32m<ipython-input-11-8544a2b1e4d4>\u001b[0m in \u001b[0;36m<module>\u001b[1;34m()\u001b[0m\n\u001b[0;32m      1\u001b[0m \u001b[1;31m# Necessary imports\u001b[0m\u001b[1;33m\u001b[0m\u001b[1;33m\u001b[0m\u001b[0m\n\u001b[0;32m      2\u001b[0m \u001b[1;32mimport\u001b[0m \u001b[0mrandom\u001b[0m\u001b[1;33m\u001b[0m\u001b[0m\n\u001b[1;32m----> 3\u001b[1;33m \u001b[1;32mfrom\u001b[0m \u001b[0mflask\u001b[0m \u001b[1;32mimport\u001b[0m \u001b[0mFlask\u001b[0m\u001b[1;33m,\u001b[0m \u001b[0mrequest\u001b[0m\u001b[1;33m\u001b[0m\u001b[0m\n\u001b[0m\u001b[0;32m      4\u001b[0m \u001b[1;32mimport\u001b[0m \u001b[0mrandom\u001b[0m\u001b[1;33m\u001b[0m\u001b[0m\n",
      "\u001b[1;31mImportError\u001b[0m: No module named flask"
     ]
    }
   ],
   "source": [
    "# Necessary imports\n",
    "import random\n",
    "from flask import Flask, request\n",
    "import random"
   ]
  },
  {
   "cell_type": "markdown",
   "metadata": {},
   "source": [
    "### Random Number API"
   ]
  },
  {
   "cell_type": "code",
   "execution_count": null,
   "metadata": {},
   "outputs": [],
   "source": [
    "# Initialize flask app\n",
    "\n",
    "# On the main page, return a random number (as a string)\n",
    "\n",
    "#Run the app\n"
   ]
  },
  {
   "cell_type": "markdown",
   "metadata": {},
   "source": [
    "### Addition API"
   ]
  },
  {
   "cell_type": "code",
   "execution_count": null,
   "metadata": {},
   "outputs": [],
   "source": [
    "# Initialize flask app\n",
    "\n",
    "# On the main page, return a random number (as a string)\n",
    "\n",
    "# On the add page, take two arguments, add them, and return the string\n",
    "\n",
    "# Run the application\n"
   ]
  },
  {
   "cell_type": "markdown",
   "metadata": {},
   "source": [
    "## Data Science"
   ]
  },
  {
   "cell_type": "code",
   "execution_count": 4,
   "metadata": {},
   "outputs": [],
   "source": [
    "# Necessary imports:\n",
    "import json\n",
    "import pandas as pd\n",
    "from pandas.plotting import parallel_coordinates\n",
    "from sklearn.cluster import KMeans\n",
    "from sklearn.neighbors import KNeighborsClassifier\n",
    "from sklearn.metrics import confusion_matrix, accuracy_score\n",
    "from sklearn.preprocessing import LabelEncoder\n",
    "from sklearn.model_selection import cross_val_score\n",
    "import matplotlib.pyplot as plt\n",
    "from sklearn.cross_validation import train_test_split\n",
    "import numpy as np\n",
    "import random\n",
    "import os\n",
    "\n",
    "# Setting up current directory:\n",
    "CURRENT_DIRECTORY = os.getcwd()"
   ]
  },
  {
   "cell_type": "markdown",
   "metadata": {},
   "source": [
    "### K Nearest Neighbors"
   ]
  },
  {
   "cell_type": "code",
   "execution_count": null,
   "metadata": {},
   "outputs": [],
   "source": [
    "# Importing data from a csv file\n",
    "\n",
    "# Adding an Id tag to the dataframe\n",
    "\n",
    "# Check how many of each species we have\n",
    "\n",
    "# splitting up the labels and the values for each species:\n",
    "\n",
    "\n",
    "# Encoding Labels (Turning string species names into integers)\n",
    "# setosa -> 0\n",
    "# versicolor -> 1\n",
    "# virginica -> 2"
   ]
  },
  {
   "cell_type": "markdown",
   "metadata": {},
   "source": [
    "### Visualize the data"
   ]
  },
  {
   "cell_type": "code",
   "execution_count": null,
   "metadata": {},
   "outputs": [],
   "source": [
    "# Data Visualization:\n",
    "plt.figure(figsize=(15,10))\n",
    "parallel_coordinates(dataset.drop(\"Id\", axis=1), \"Species\")\n",
    "plt.title('Parallel Coordinates Plot', fontsize=20, fontweight='bold')\n",
    "plt.xlabel('Features', fontsize=15)\n",
    "plt.ylabel('Features values', fontsize=15)\n",
    "plt.legend(loc=1, prop={'size': 15}, frameon=True,shadow=True, facecolor=\"white\", edgecolor=\"black\")\n",
    "plt.show()"
   ]
  },
  {
   "cell_type": "markdown",
   "metadata": {
    "scrolled": true
   },
   "source": [
    "### Train the model"
   ]
  },
  {
   "cell_type": "code",
   "execution_count": null,
   "metadata": {},
   "outputs": [],
   "source": [
    "# Splitting into training and test datasets\n",
    "X_train, X_test, Y_train, Y_test = train_test_split(X, Y, test_size = 0.3, random_state = 0)\n",
    "\n",
    "# Creating the learning model\n",
    "knn_classifier = KNeighborsClassifier(n_neighbors=10)\n",
    "\n",
    "# Fitting the model with the training data\n",
    "knn_classifier.fit(X_train, Y_train)"
   ]
  },
  {
   "cell_type": "markdown",
   "metadata": {},
   "source": [
    "### Test the model"
   ]
  },
  {
   "cell_type": "code",
   "execution_count": null,
   "metadata": {},
   "outputs": [],
   "source": [
    "# Making predictions with the test data (This line is also where we would potentially classify new data)\n",
    "Y_pred = knn_classifier.predict(X_test)\n",
    "print(Y_pred)\n",
    "\n",
    "# Finding Accuracy:\n",
    "accuracy = accuracy_score(Y_test, Y_pred)*100\n",
    "print('Accuracy of model: ' + str(round(accuracy, 2)) + ' %.')"
   ]
  },
  {
   "cell_type": "markdown",
   "metadata": {},
   "source": [
    "### Try out different k values"
   ]
  },
  {
   "cell_type": "code",
   "execution_count": 5,
   "metadata": {},
   "outputs": [
    {
     "ename": "NameError",
     "evalue": "name 'X_train' is not defined",
     "output_type": "error",
     "traceback": [
      "\u001b[0;31m---------------------------------------------------------------------------\u001b[0m",
      "\u001b[0;31mNameError\u001b[0m                                 Traceback (most recent call last)",
      "\u001b[0;32m<ipython-input-5-657dc99b633b>\u001b[0m in \u001b[0;36m<module>\u001b[0;34m()\u001b[0m\n\u001b[1;32m      5\u001b[0m \u001b[0;32mfor\u001b[0m \u001b[0mk\u001b[0m \u001b[0;32min\u001b[0m \u001b[0mrange\u001b[0m\u001b[0;34m(\u001b[0m\u001b[0;36m1\u001b[0m\u001b[0;34m,\u001b[0m\u001b[0;36m50\u001b[0m\u001b[0;34m,\u001b[0m\u001b[0;36m2\u001b[0m\u001b[0;34m)\u001b[0m\u001b[0;34m:\u001b[0m\u001b[0;34m\u001b[0m\u001b[0m\n\u001b[1;32m      6\u001b[0m     \u001b[0mknn\u001b[0m \u001b[0;34m=\u001b[0m \u001b[0mKNeighborsClassifier\u001b[0m\u001b[0;34m(\u001b[0m\u001b[0mn_neighbors\u001b[0m\u001b[0;34m=\u001b[0m\u001b[0mk\u001b[0m\u001b[0;34m)\u001b[0m\u001b[0;34m\u001b[0m\u001b[0m\n\u001b[0;32m----> 7\u001b[0;31m     \u001b[0mscores\u001b[0m \u001b[0;34m=\u001b[0m \u001b[0mcross_val_score\u001b[0m\u001b[0;34m(\u001b[0m\u001b[0mknn\u001b[0m\u001b[0;34m,\u001b[0m \u001b[0mX_train\u001b[0m\u001b[0;34m,\u001b[0m \u001b[0mY_train\u001b[0m\u001b[0;34m,\u001b[0m \u001b[0mcv\u001b[0m\u001b[0;34m=\u001b[0m\u001b[0;36m10\u001b[0m\u001b[0;34m,\u001b[0m \u001b[0mscoring\u001b[0m\u001b[0;34m=\u001b[0m\u001b[0;34m'accuracy'\u001b[0m\u001b[0;34m)\u001b[0m\u001b[0;34m\u001b[0m\u001b[0m\n\u001b[0m\u001b[1;32m      8\u001b[0m     \u001b[0mcv_scores\u001b[0m\u001b[0;34m.\u001b[0m\u001b[0mappend\u001b[0m\u001b[0;34m(\u001b[0m\u001b[0mscores\u001b[0m\u001b[0;34m.\u001b[0m\u001b[0mmean\u001b[0m\u001b[0;34m(\u001b[0m\u001b[0;34m)\u001b[0m\u001b[0;34m)\u001b[0m\u001b[0;34m\u001b[0m\u001b[0m\n\u001b[1;32m      9\u001b[0m \u001b[0;34m\u001b[0m\u001b[0m\n",
      "\u001b[0;31mNameError\u001b[0m: name 'X_train' is not defined"
     ]
    }
   ],
   "source": [
    "# creating list of cv scores\n",
    "cv_scores = []\n",
    "\n",
    "# perform 10-fold cross validation\n",
    "for k in range(1,50,2):\n",
    "    knn = KNeighborsClassifier(n_neighbors=k)\n",
    "    scores = cross_val_score(knn, X_train, Y_train, cv=10, scoring='accuracy')\n",
    "    cv_scores.append(scores.mean())\n",
    "\n",
    "\n",
    "\n",
    "# Displaying results visually\n",
    "plt.figure()\n",
    "plt.figure(figsize=(15,10))\n",
    "plt.title('The optimal number of neighbors', fontsize=20, fontweight='bold')\n",
    "plt.xlabel('Number of Neighbors K', fontsize=15)\n",
    "plt.ylabel('Accuracy', fontsize=15)\n",
    "plt.plot(k_list, cv_scores)\n",
    "\n",
    "plt.show()"
   ]
  },
  {
   "cell_type": "markdown",
   "metadata": {},
   "source": [
    "## Making an API for our model"
   ]
  },
  {
   "cell_type": "code",
   "execution_count": null,
   "metadata": {},
   "outputs": [],
   "source": [
    "# Set up Flask App\n",
    "app = Flask(__name__)\n",
    "\n",
    "@app.route(\"/\", methods = ['GET'])\n",
    "def classify():\n",
    "    # array mapping numbers to flower names\n",
    "    classes = [ \"Iris Setosa\", \"Iris Versicolor\", \"Iris Virginica\"]\n",
    "    \n",
    "    # get values for each component in the form [[\"sHeight\", \"sWidth\", \"pHeight\", \"pWidth\"]]\n",
    "    values = [] # TODO\n",
    "    \n",
    "    \n",
    "    # Otherwise, return the prediction.\n",
    "    return \"\"\n",
    "\n",
    "# Run the app.\n",
    "app.run()\n",
    "\n",
    "# try 127.0.0.1:5000?sHeight=5.2&sWidth=4.6&pHeight=4.2&sHeight=7.8\n",
    "    "
   ]
  }
 ],
 "metadata": {
  "kernelspec": {
   "display_name": "Python 2",
   "language": "python",
   "name": "python2"
  },
  "language_info": {
   "codemirror_mode": {
    "name": "ipython",
    "version": 2
   },
   "file_extension": ".py",
   "mimetype": "text/x-python",
   "name": "python",
   "nbconvert_exporter": "python",
   "pygments_lexer": "ipython2",
   "version": "2.7.16"
  }
 },
 "nbformat": 4,
 "nbformat_minor": 2
}
